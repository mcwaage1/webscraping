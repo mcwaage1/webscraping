{
 "cells": [
  {
   "cell_type": "code",
   "execution_count": 18,
   "id": "c8b3ad18-972c-4c65-bb6a-4ea3e8886eab",
   "metadata": {},
   "outputs": [],
   "source": [
    "# Import libraries \n",
    "import requests\n",
    "from bs4 import BeautifulSoup\n",
    "from pprint import pprint\n",
    "import pandas as pd\n",
    "import numpy as np\n",
    "import html5lib\n",
    "import lxml\n",
    "\n",
    "import os\n",
    "\n",
    "from selenium import webdriver\n",
    "import selenium\n",
    "#import httplib\n",
    "from selenium.webdriver.common.by import By\n",
    "from selenium.webdriver.support.ui import WebDriverWait\n",
    "from selenium.webdriver.support import expected_conditions as EC\n",
    "from selenium.common.exceptions import TimeoutException\n",
    "from selenium.common.exceptions import NoSuchElementException\n",
    "from selenium.common.exceptions import StaleElementReferenceException\n",
    "from selenium.common.exceptions import WebDriverException\n",
    "from datetime import datetime as dt"
   ]
  },
  {
   "cell_type": "code",
   "execution_count": 19,
   "id": "2013545d-d84f-4f6b-b7bc-ee2a5f6facfc",
   "metadata": {},
   "outputs": [],
   "source": [
    "url = 'https://dictionary.apa.org/'"
   ]
  },
  {
   "cell_type": "code",
   "execution_count": 20,
   "id": "4046ec7d-a4dd-45fc-8a81-1e41d3c84b3e",
   "metadata": {
    "tags": []
   },
   "outputs": [],
   "source": [
    "driver = webdriver.Chrome('/usr/lib/chromium-browser/chromedriver')\n",
    "driver.delete_all_cookies()\n",
    "driver.get(url)"
   ]
  },
  {
   "cell_type": "code",
   "execution_count": 23,
   "id": "8d5085dd-c9c7-4585-9348-4838043171ef",
   "metadata": {},
   "outputs": [],
   "source": [
    "c = driver.page_source"
   ]
  },
  {
   "cell_type": "code",
   "execution_count": 29,
   "id": "8d9e5481-3c93-4564-840c-47f2086f709d",
   "metadata": {},
   "outputs": [],
   "source": [
    "soup = BeautifulSoup(c, \"html.parser\")"
   ]
  },
  {
   "cell_type": "code",
   "execution_count": 44,
   "id": "5e746693-3dab-408c-a846-2b70be9940cc",
   "metadata": {},
   "outputs": [],
   "source": [
    "# soup.find_all('a')"
   ]
  },
  {
   "cell_type": "code",
   "execution_count": 46,
   "id": "33d12d76-dae9-4570-9307-312a2fd47a61",
   "metadata": {},
   "outputs": [
    {
     "data": {
      "text/plain": [
       "['https://www.apa.org/about/privacy',\n",
       " None,\n",
       " 'https://www.apa.org',\n",
       " 'https://www.apaservices.org/?_ga=2.183374054.131811619.1583847894-1385206704.1579611147',\n",
       " 'https://www.apa.org/support',\n",
       " 'https://my.apa.org/shop/shoppingCart',\n",
       " 'http://join.apa.org ',\n",
       " 'http://www.apa.org',\n",
       " 'https://www.apa.org/members',\n",
       " 'https://www.apa.org/topics',\n",
       " 'https://www.apa.org/pubs',\n",
       " 'https://www.apa.org/helpcenter',\n",
       " 'https://www.apa.org/news',\n",
       " 'https://www.apa.org/research',\n",
       " 'https://www.apa.org/education',\n",
       " 'https://www.apa.org/careers',\n",
       " 'https://www.apa.org/about',\n",
       " '/',\n",
       " '/browse/a',\n",
       " '/browse/b',\n",
       " '/browse/c',\n",
       " '/browse/d',\n",
       " '/browse/e',\n",
       " '/browse/f',\n",
       " '/browse/g',\n",
       " '/browse/h',\n",
       " '/browse/i',\n",
       " '/browse/j',\n",
       " '/browse/k',\n",
       " '/browse/l',\n",
       " '/browse/m',\n",
       " '/browse/n',\n",
       " '/browse/o',\n",
       " '/browse/p',\n",
       " '/browse/q',\n",
       " '/browse/r',\n",
       " '/browse/s',\n",
       " '/browse/t',\n",
       " '/browse/u',\n",
       " '/browse/v',\n",
       " '/browse/w',\n",
       " '/browse/x',\n",
       " '/browse/y',\n",
       " '/browse/z',\n",
       " '/browse/special-character-number',\n",
       " '/pemoline',\n",
       " '/cns-stimulant',\n",
       " '/amphetamines',\n",
       " '/methylphenidate',\n",
       " 'http://www.apa.org/action/index.aspx ',\n",
       " 'http://www.apa.org/careers/resources/guides/careers.aspx',\n",
       " 'https://www.today.com/health/1-7-people-have-ended-friendships-over-covid-19-vaccine-t231279',\n",
       " 'https://www.forbes.com/sites/nataliewexler/2021/09/15/what-experts-on-kids-social-and-emotional-health-are-overlooking/?sh=188b673c34f8',\n",
       " 'https://www.cnbc.com/2021/09/14/young-people-say-climate-anxiety-is-affecting-their-daily-life.html',\n",
       " 'https://www.washingtonpost.com/lifestyle/wellness/how-housing-that-mixes-young-and-old-can-improve-the-lives-of-both/2021/09/13/d28eae4a-14c6-11ec-a5e5-ceecb895922f_story.html',\n",
       " 'http://www.apa.org/index.aspx',\n",
       " 'http://www.apa.org/support/contact.aspx',\n",
       " 'http://www.apa.org/news/press/index.aspx',\n",
       " 'http://www.apa.org/ads/index.aspx',\n",
       " 'http://psycnet.apa.org/',\n",
       " 'http://www.apa.org/about/privacy.aspx',\n",
       " 'http://www.apa.org/about/termsofuse.aspx',\n",
       " 'http://www.apa.org/about/accessibility.aspx',\n",
       " 'http://www.apa.org/website-feedback.aspx',\n",
       " 'http://www.apa.org/sitemap.aspx',\n",
       " 'http://www.apa.org/support/index.aspx',\n",
       " 'http://www.apa.org/about/contact/copyright/index.aspx']"
      ]
     },
     "execution_count": 46,
     "metadata": {},
     "output_type": "execute_result"
    }
   ],
   "source": [
    "# for link in soup.find_all('a'):\n",
    "#     print(link.get('href'))\n",
    "    \n",
    "for link in soup.find_all('a'):\n",
    "    list_of_urls.append(link.get('href'))"
   ]
  },
  {
   "cell_type": "code",
   "execution_count": 55,
   "id": "1b386c32-f962-4737-9457-e5bb128c574b",
   "metadata": {},
   "outputs": [
    {
     "data": {
      "text/plain": [
       "['browse/a',\n",
       " 'browse/b',\n",
       " 'browse/c',\n",
       " 'browse/d',\n",
       " 'browse/e',\n",
       " 'browse/f',\n",
       " 'browse/g',\n",
       " 'browse/h',\n",
       " 'browse/i',\n",
       " 'browse/j',\n",
       " 'browse/k',\n",
       " 'browse/l',\n",
       " 'browse/m',\n",
       " 'browse/n',\n",
       " 'browse/o',\n",
       " 'browse/p',\n",
       " 'browse/q',\n",
       " 'browse/r',\n",
       " 'browse/s',\n",
       " 'browse/t',\n",
       " 'browse/u',\n",
       " 'browse/v',\n",
       " 'browse/w',\n",
       " 'browse/x',\n",
       " 'browse/y',\n",
       " 'browse/z',\n",
       " 'browse/special-character-number']"
      ]
     },
     "execution_count": 55,
     "metadata": {},
     "output_type": "execute_result"
    }
   ],
   "source": [
    "list_of_urls = ['/browse/a',\n",
    " '/browse/b',\n",
    " '/browse/c',\n",
    " '/browse/d',\n",
    " '/browse/e',\n",
    " '/browse/f',\n",
    " '/browse/g',\n",
    " '/browse/h',\n",
    " '/browse/i',\n",
    " '/browse/j',\n",
    " '/browse/k',\n",
    " '/browse/l',\n",
    " '/browse/m',\n",
    " '/browse/n',\n",
    " '/browse/o',\n",
    " '/browse/p',\n",
    " '/browse/q',\n",
    " '/browse/r',\n",
    " '/browse/s',\n",
    " '/browse/t',\n",
    " '/browse/u',\n",
    " '/browse/v',\n",
    " '/browse/w',\n",
    " '/browse/x',\n",
    " '/browse/y',\n",
    " '/browse/z',\n",
    " '/browse/special-character-number']\n",
    "\n",
    "list_of_urls = [i[1:] for i in list_of_urls]\n",
    "list_of_urls"
   ]
  },
  {
   "cell_type": "code",
   "execution_count": 56,
   "id": "97780eff-6030-4af1-9167-c59ffe02acd2",
   "metadata": {},
   "outputs": [
    {
     "data": {
      "text/plain": [
       "['https://dictionary.apa.org/browse/a',\n",
       " 'https://dictionary.apa.org/browse/b',\n",
       " 'https://dictionary.apa.org/browse/c',\n",
       " 'https://dictionary.apa.org/browse/d',\n",
       " 'https://dictionary.apa.org/browse/e',\n",
       " 'https://dictionary.apa.org/browse/f',\n",
       " 'https://dictionary.apa.org/browse/g',\n",
       " 'https://dictionary.apa.org/browse/h',\n",
       " 'https://dictionary.apa.org/browse/i',\n",
       " 'https://dictionary.apa.org/browse/j',\n",
       " 'https://dictionary.apa.org/browse/k',\n",
       " 'https://dictionary.apa.org/browse/l',\n",
       " 'https://dictionary.apa.org/browse/m',\n",
       " 'https://dictionary.apa.org/browse/n',\n",
       " 'https://dictionary.apa.org/browse/o',\n",
       " 'https://dictionary.apa.org/browse/p',\n",
       " 'https://dictionary.apa.org/browse/q',\n",
       " 'https://dictionary.apa.org/browse/r',\n",
       " 'https://dictionary.apa.org/browse/s',\n",
       " 'https://dictionary.apa.org/browse/t',\n",
       " 'https://dictionary.apa.org/browse/u',\n",
       " 'https://dictionary.apa.org/browse/v',\n",
       " 'https://dictionary.apa.org/browse/w',\n",
       " 'https://dictionary.apa.org/browse/x',\n",
       " 'https://dictionary.apa.org/browse/y',\n",
       " 'https://dictionary.apa.org/browse/z',\n",
       " 'https://dictionary.apa.org/browse/special-character-number']"
      ]
     },
     "execution_count": 56,
     "metadata": {},
     "output_type": "execute_result"
    }
   ],
   "source": [
    "list_of_urls = [url + i for i in list_of_urls]\n",
    "list_of_urls"
   ]
  },
  {
   "cell_type": "code",
   "execution_count": null,
   "id": "15a54b26-466c-4e6b-8b8f-71e6b7b3f2a6",
   "metadata": {},
   "outputs": [],
   "source": []
  },
  {
   "cell_type": "code",
   "execution_count": null,
   "id": "007b4c40-7e74-48ef-a7a2-41603ce75b8b",
   "metadata": {},
   "outputs": [],
   "source": []
  }
 ],
 "metadata": {
  "kernelspec": {
   "display_name": "Python 3",
   "language": "python",
   "name": "python3"
  },
  "language_info": {
   "codemirror_mode": {
    "name": "ipython",
    "version": 3
   },
   "file_extension": ".py",
   "mimetype": "text/x-python",
   "name": "python",
   "nbconvert_exporter": "python",
   "pygments_lexer": "ipython3",
   "version": "3.8.10"
  }
 },
 "nbformat": 4,
 "nbformat_minor": 5
}
